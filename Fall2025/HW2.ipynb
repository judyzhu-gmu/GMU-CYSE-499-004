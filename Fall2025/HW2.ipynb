{
 "cells": [
  {
   "cell_type": "markdown",
   "id": "ffd1a6d7-81c3-4937-9e96-7c614a7ca3f6",
   "metadata": {},
   "source": [
    "##                      Homework 2: Improving Image Classification Performance on the MNIST Dataset"
   ]
  },
  {
   "cell_type": "markdown",
   "id": "f4d0dc0e-8cd6-48dc-b308-ca19d45a7b41",
   "metadata": {},
   "source": [
    "#### Objective\n",
    "\n",
    "#### In this assignment, you will:\n",
    "\n",
    "1. Build and evaluate an MLP and a CNN on the MNIST dataset.\n",
    "2. Experiment with \n",
    "3. Explore how training data proportions (10% vs. 30%), network design, and other hyper parameter configurations (e.g. learning rate) affect model performance.\n",
    "4. Bonus: Achieve high test accuracy (≥98%) with your CNN model using 30% of training data."
   ]
  },
  {
   "cell_type": "markdown",
   "id": "83cc6b59-37e8-4187-a700-3893b567b675",
   "metadata": {},
   "source": [
    "## 🪄 Step 0: Setup"
   ]
  },
  {
   "cell_type": "code",
   "execution_count": 27,
   "id": "f23b30c5-3fd8-4318-94c1-aecbbb481950",
   "metadata": {},
   "outputs": [],
   "source": [
    "import torch\n",
    "import torch.nn as nn\n",
    "import torch.optim as optim\n",
    "from torchvision import datasets, transforms\n",
    "from torch.utils.data import DataLoader, random_split\n",
    "import matplotlib.pyplot as plt\n",
    "import numpy as np"
   ]
  },
  {
   "cell_type": "markdown",
   "id": "9434577c-b9c0-4f77-9098-17629e351c8f",
   "metadata": {},
   "source": [
    "## Step 1: Load MNIST Dataset"
   ]
  },
  {
   "cell_type": "code",
   "execution_count": 17,
   "id": "b9767e85-4a42-4f88-96da-3ca2b93b2aea",
   "metadata": {},
   "outputs": [
    {
     "name": "stdout",
     "output_type": "stream",
     "text": [
      "Training samples: 60000, Testing samples: 10000\n"
     ]
    }
   ],
   "source": [
    "# Transform: convert images to tensors and normalize to [-1, 1]\n",
    "transform = transforms.Compose([\n",
    "    transforms.ToTensor(),\n",
    "    transforms.Normalize((0.5,), (0.5,))\n",
    "])\n",
    "\n",
    "# Load training and test datasets\n",
    "train_dataset = datasets.MNIST(root='./data', train=True, download=True, transform=transform)\n",
    "test_dataset  = datasets.MNIST(root='./data', train=False, download=True, transform=transform)\n",
    "\n",
    "print(f\"Training samples: {len(train_dataset)}, Testing samples: {len(test_dataset)}\")\n"
   ]
  },
  {
   "cell_type": "markdown",
   "id": "28eaee2b-6828-4406-b575-327baad6b41f",
   "metadata": {},
   "source": [
    "# Step 2: Load Only 10% of the Training Data"
   ]
  },
  {
   "cell_type": "code",
   "execution_count": 18,
   "id": "fa54cbf4-f87a-4be2-8e68-f95f1c108aa4",
   "metadata": {},
   "outputs": [
    {
     "name": "stdout",
     "output_type": "stream",
     "text": [
      "Subset training samples: 6000\n"
     ]
    }
   ],
   "source": [
    "torch.manual_seed(42)  # fixed seed for reproducibility\n",
    "train_size = int(0.1 * len(train_dataset))\n",
    "_, small_train_dataset = random_split(train_dataset, [len(train_dataset) - train_size, train_size])\n",
    "\n",
    "batch_size = 32\n",
    "\n",
    "train_loader = DataLoader(small_train_dataset, batch_size=batch_size, shuffle=True)\n",
    "test_loader  = DataLoader(test_dataset, batch_size=batch_size, shuffle=False)\n",
    "\n",
    "print(f\"Subset training samples: {len(small_train_dataset)}\")\n"
   ]
  },
  {
   "cell_type": "markdown",
   "id": "4bfba9d3-43ae-4fa0-bdcc-e585fc2d15e0",
   "metadata": {},
   "source": [
    "## Visualize a Few MNIST Samples\n",
    "Before training, let’s look at a few examples from the dataset."
   ]
  },
  {
   "cell_type": "code",
   "execution_count": 19,
   "id": "b660a522-7adb-4388-a351-462db92d2d26",
   "metadata": {},
   "outputs": [
    {
     "name": "stdout",
     "output_type": "stream",
     "text": [
      "Sample shape: torch.Size([1, 28, 28])\n"
     ]
    },
    {
     "data": {
      "image/png": "[encoded data removed]",
      "text/plain": [
       "<Figure size 1000x200 with 6 Axes>"
      ]
     },
     "metadata": {},
     "output_type": "display_data"
    }
   ],
   "source": [
    "examples = enumerate(train_loader)\n",
    "batch_idx, (example_data, example_targets) = next(examples)\n",
    "\n",
    "fig, axes = plt.subplots(1, 6, figsize=(10, 2))\n",
    "for i in range(6):\n",
    "    axes[i].imshow(example_data[i][0], cmap='gray')\n",
    "    axes[i].set_title(f\"Label: {example_targets[i]}\")\n",
    "    axes[i].axis('off')\n",
    "\n",
    "print(\"Sample shape:\", example_data[0].shape)\n",
    "plt.show()\n"
   ]
  },
  {
   "cell_type": "markdown",
   "id": "74bdd184-b253-4888-a558-388d07cc1714",
   "metadata": {},
   "source": [
    "## Step 3: Define the Baseline MLP Model¶\n",
    "We will use this predefined **Multi-Layer Perceptron (MLP)** structure for the first experiment. \n"
   ]
  },
  {
   "cell_type": "code",
   "execution_count": 20,
   "id": "46c34ed0-a662-482d-9784-eb01787dfd56",
   "metadata": {},
   "outputs": [],
   "source": [
    "class MLP1(nn.Module):\n",
    "    def __init__(self):\n",
    "        super(MLP1, self).__init__()\n",
    "        self.flatten = nn.Flatten()\n",
    "        self.fc1 = nn.Linear(28*28, 256)\n",
    "        self.fc2 = nn.Linear(256, 128)\n",
    "        self.fc3 = nn.Linear(128, 10)\n",
    "        self.relu = nn.ReLU()\n",
    "\n",
    "    def forward(self, x):\n",
    "        x = self.flatten(x)\n",
    "        x = self.relu(self.fc1(x))\n",
    "        x = self.relu(self.fc2(x))\n",
    "        x = self.fc3(x)\n",
    "        return x\n"
   ]
  },
  {
   "cell_type": "markdown",
   "id": "26734ada-9fe6-4982-b60b-8bda2efac8e0",
   "metadata": {},
   "source": [
    "### Questions:\n",
    "Before training your model, answer the following questions in your final report:\n",
    "\n",
    "1. **Can we change the input dimension (784) in `fc1`? Why or why not?**  \n",
    "\n",
    "\n",
    "2. **Can we change the output dimension (10) in `fc3`? Why or why not?**  \n",
    " \n",
    "\n",
    "3. **Can we change the dimensions of the hidden layers (`256` or `128`)? Why or why not?**  \n",
    "   \n"
   ]
  },
  {
   "cell_type": "markdown",
   "id": "a05cb7af-ca6a-45fa-a3bf-5c1177914cf1",
   "metadata": {
    "jp-MarkdownHeadingCollapsed": true
   },
   "source": [
    "## Step 3: Train and Evaluate the MLP Model\n",
    "Use the following hyper-parameters:\n",
    "- **Learning rate:** 0.1  \n",
    "- **Batch size:** 32  \n",
    "- **Epochs:** 10\n",
    "\n",
    "Use Cross-Entropy loss as your loss function  \n"
   ]
  },
  {
   "cell_type": "code",
   "execution_count": 21,
   "id": "653a1552-cfa6-41d2-ba58-1f5fc657c312",
   "metadata": {},
   "outputs": [],
   "source": [
    "def train(model, loader, criterion, optimizer):\n",
    "    model.train()\n",
    "    correct, total = 0, 0\n",
    "    for images, labels in loader:\n",
    "        optimizer.zero_grad()\n",
    "        outputs = model(images)\n",
    "        loss = criterion(outputs, labels)\n",
    "        loss.backward()\n",
    "        optimizer.step()\n",
    "        _, predicted = torch.max(outputs, 1)\n",
    "        total += labels.size(0)\n",
    "        correct += (predicted == labels).sum().item()\n",
    "    return correct / total\n",
    "\n",
    "def test(model, loader):\n",
    "    model.eval()\n",
    "    correct, total = 0, 0\n",
    "    with torch.no_grad():\n",
    "        for images, labels in loader:\n",
    "            outputs = model(images)\n",
    "            _, predicted = torch.max(outputs, 1)\n",
    "            total += labels.size(0)\n",
    "            correct += (predicted == labels).sum().item()\n",
    "    return correct / total\n"
   ]
  },
  {
   "cell_type": "markdown",
   "id": "09de78d7-6947-46f9-b3f4-e9712a097e88",
   "metadata": {},
   "source": [
    "####  Training and Evaluation"
   ]
  },
  {
   "cell_type": "code",
   "execution_count": 22,
   "id": "198e0161-c4d0-40c5-8ece-043e21a5a868",
   "metadata": {},
   "outputs": [
    {
     "name": "stdout",
     "output_type": "stream",
     "text": [
      "Epoch 1: Train Acc=0.6297, Test Acc=0.6740\n",
      "Epoch 2: Train Acc=0.8458, Test Acc=0.8713\n",
      "Epoch 3: Train Acc=0.8990, Test Acc=0.8505\n",
      "Epoch 4: Train Acc=0.9145, Test Acc=0.9192\n",
      "Epoch 5: Train Acc=0.9298, Test Acc=0.9190\n",
      "Epoch 6: Train Acc=0.9498, Test Acc=0.9290\n",
      "Epoch 7: Train Acc=0.9525, Test Acc=0.8971\n",
      "Epoch 8: Train Acc=0.9630, Test Acc=0.9068\n",
      "Epoch 9: Train Acc=0.9707, Test Acc=0.9422\n",
      "Epoch 10: Train Acc=0.9718, Test Acc=0.8809\n"
     ]
    }
   ],
   "source": [
    "model = MLP1()\n",
    "criterion = nn.CrossEntropyLoss()\n",
    "optimizer = optim.SGD(model.parameters(), lr=0.1)\n",
    "\n",
    "train_acc, test_acc = [], []\n",
    "\n",
    "for epoch in range(10):\n",
    "    tr_acc = train(model, train_loader, criterion, optimizer)\n",
    "    te_acc = test(model, test_loader)\n",
    "    train_acc.append(tr_acc)\n",
    "    test_acc.append(te_acc)\n",
    "    print(f\"Epoch {epoch+1}: Train Acc={tr_acc:.4f}, Test Acc={te_acc:.4f}\")\n"
   ]
  },
  {
   "cell_type": "markdown",
   "id": "565418ea-51c2-423c-a05c-8ce877854f89",
   "metadata": {},
   "source": [
    "### Show your performance\n"
   ]
  },
  {
   "cell_type": "code",
   "execution_count": 23,
   "id": "6fe5c858-1d3f-452a-bf6e-a3ec963111ce",
   "metadata": {},
   "outputs": [
    {
     "data": {
      "image/png": "[encoded data removed]",
      "text/plain": [
       "<Figure size 640x480 with 1 Axes>"
      ]
     },
     "metadata": {},
     "output_type": "display_data"
    }
   ],
   "source": [
    "plt.plot(range(1, 11), train_acc, label='Train Accuracy')\n",
    "plt.plot(range(1, 11), test_acc, label='Test Accuracy')\n",
    "plt.xlabel('Epoch')\n",
    "plt.ylabel('Accuracy')\n",
    "plt.title('Training vs Testing Accuracy (MLP, 20% data)')\n",
    "plt.legend()\n",
    "plt.show()\n"
   ]
  },
  {
   "cell_type": "markdown",
   "id": "44aea1dd-1841-4e45-ba65-f8e2cf5da0e8",
   "metadata": {},
   "source": [
    "## Step 4: Using 30% of the Training Data\n",
    "Now repeat the same process, but using **30%** of the training data.\n",
    "\n",
    "Compare the new test accuracy to your previous results.\n",
    "\n",
    "set seed to be 42 using torch.manual_seed(42)"
   ]
  },
  {
   "cell_type": "markdown",
   "id": "126d9823-43c0-4a09-9507-8eca3f595936",
   "metadata": {},
   "source": [
    "## Step 5: Design Your Own CNN Model\n",
    "Now, design your own **Convolutional Neural Network (CNN)**.\n",
    "\n",
    "Your **goal** is to beat the best MLP test accuracy using only 30% of the training data (same as Step 4)"
   ]
  },
  {
   "cell_type": "markdown",
   "id": "cccda7e7-157d-44c5-aec1-f3e58114b787",
   "metadata": {},
   "source": [
    "## Step 6: Hyper-parameter and Learning Rate Exploration\n",
    "Using the **same CNN** as Step 5, experiment with:\n",
    "- Different learning rates  \n",
    "- Optional learning rate schedulers (`StepLR`, `ReduceLROnPlateau`, etc.)\n",
    "- Batch Size\n",
    "\n",
    "Goal: **Improve the test accuracy** from your previous CNN experiment on Step 5."
   ]
  },
  {
   "cell_type": "markdown",
   "id": "3a86eb34-e3ab-4751-b644-7025b77c1238",
   "metadata": {},
   "source": [
    "## Step 7: Analysis\n",
    "Write a short report discussing the following points:\n",
    "1. **Effect of Data Size:**  \n",
    "   How did the amount of training data (10% vs 30%) affect your model’s generalization performance?  \n",
    "   \n",
    "2. **Effect of Model Architecture:**  \n",
    "   How did different network architectures (MLP vs CNN) impact generalization?\n",
    "\n",
    "3. **Effect of Learning Rate:**  \n",
    "   How did the choice of learning rate (and/or use of a learning rate scheduler) influence **convergence** speed and final performance?\n",
    "\n",
    "4. **Effective Design Choices:**  \n",
    "   Which design decisions (e.g., number of layers, hidden dimension, activation functions, batch size) in your experiments contributed most to improving the model's generalization performance?\n",
    "\n",
    "5. **Limitations and Improvement Strategies:**  \n",
    "   What limitations or challenges did you observe in your experiments (e.g., overfitting, slow convergence, unstable training)?  \n",
    "   Suggest one or two strategies that could further improve model performance."
   ]
  },
  {
   "cell_type": "code",
   "execution_count": null,
   "id": "7ad43e5f-13a2-4b10-84c8-76fd87ba8a54",
   "metadata": {},
   "outputs": [],
   "source": []
  }
 ],
 "metadata": {
  "kernelspec": {
   "display_name": "gmu1",
   "language": "python",
   "name": "gmu1"
  },
  "language_info": {
   "codemirror_mode": {
    "name": "ipython",
    "version": 3
   },
   "file_extension": ".py",
   "mimetype": "text/x-python",
   "name": "python",
   "nbconvert_exporter": "python",
   "pygments_lexer": "ipython3",
   "version": "3.11.5"
  }
 },
 "nbformat": 4,
 "nbformat_minor": 5
}
